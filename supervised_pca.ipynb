{
 "cells": [
  {
   "cell_type": "code",
   "execution_count": 1,
   "metadata": {},
   "outputs": [],
   "source": [
    "import numpy as np\n",
    "from sklearn.decomposition import PCA\n",
    "from sklearn.linear_model import LogisticRegression\n",
    "from data_loading import *\n",
    "import matplotlib.pyplot as plt"
   ]
  },
  {
   "cell_type": "markdown",
   "metadata": {},
   "source": [
    "Original Paper \n",
    "https://web.stanford.edu/~hastie/Papers/spca_JASA.pdf\n",
    "\n",
    "Steps in brief:\n",
    "1. Compute (univariate) standard regression coefficients for each feature.\n",
    "2. Form a reduced data matrix consisting of only those features whose univariate coefficient exceeds a threshold θ in absolute value (θ is estimated by cross-validation).\n",
    "3. Compute the first (or first few) principal components of the reduced data matrix.\n",
    "4. Use these principal component(s) in a regression model to predict the outcome."
   ]
  },
  {
   "cell_type": "code",
   "execution_count": 2,
   "metadata": {},
   "outputs": [],
   "source": [
    "class spca_model():\n",
    "    \n",
    "    def __init__(self, model=None, threshold=0, n_components=0):    \n",
    "        self._model = model\n",
    "        self._threshold = threshold\n",
    "        self._n_components = n_components\n",
    "        \n",
    "        self._dropouts = None\n",
    "        self._pca = None\n",
    "        \n",
    "    \n",
    "    def fit_spca_model(self, x, y):\n",
    "        x_extra_dim = x[:, np.newaxis]  # Change dimension from (x,y) to (x,1,y)\n",
    "        # x.reshape(x.shape + (1,))\n",
    "        \n",
    "        self._dropouts = []\n",
    "        \n",
    "        # Fit each feature with the target (predictor) and if the coefficient is less than the threshold, drop it\n",
    "        for i in range(0, x_extra_dim.shape[2]): # iterate over all the features\n",
    "            x_one_feature = x_extra_dim[:, :, i]\n",
    "            self._model.fit(x_one_feature, y)\n",
    "            \n",
    "            if (all([abs(self._model.coef_[0]) < self._threshold])): # Return True if True for all values in the list\n",
    "                self._dropouts.append(i)\n",
    "                \n",
    "        if (len(self._dropouts) == x_extra_dim.shape[2]):  # all features have coef less than the threshold\n",
    "            raise ValueError('Try a smaller threshold')\n",
    "            \n",
    "        if (self._n_components > 0):  # calculate the most important n_components\n",
    "            self._pca = PCA(n_components=self._n_components)\n",
    "        else: # if n_components is not more than 0. then all components are kept\n",
    "            self._pca = PCA(n_components=x_extra_dim.shape[2])\n",
    "        \n",
    "        x_transform = self._pca.fit_transform(x_extra_dim[:, 0, :])\n",
    "        \n",
    "        self._model = self._model.fit(x_transform, y)\n",
    "        \n",
    "        return self\n",
    "\n",
    "    \n",
    "    def spca_predict(self, x):\n",
    "        # delete from x those features which had coef less than the threshold, and were in the dropout set\n",
    "        trans_x = np.delete(x, self._dropouts, axis=1)  \n",
    "        \n",
    "        self._model = self._model.fit(trans_x, y)\n",
    "        \n",
    "        # the remaining features have been transformed into components using PCA weights \n",
    "        self._pca = PCA(n_components=5)\n",
    "        x_transform = self._pca.fit_transform(trans_x,y)\n",
    "        \n",
    "        # predict using the spca model\n",
    "        return self._model.predict(x_transform)\n",
    "    \n",
    "    \n",
    "    def get_num_components(self):\n",
    "        # return the number of components after the pca fit\n",
    "        return self._pca.n_components_\n",
    "\n",
    "    \n",
    "    def get_components(self):\n",
    "        # shape : (n_components, n_features)\n",
    "        # Principal axes in feature space, representing the directions of maximum variance in the data.\n",
    "        # Should be run only after the PCA has been run on the training dataset\n",
    "        return self._pca.components_\n",
    "\n",
    "    \n",
    "    def get_coefficients(self):\n",
    "        # return the coefs of the model the data has been fit on\n",
    "        return self._model.coef_\n",
    "    \n",
    "    \n",
    "    def get_score(self, x, y):\n",
    "        # return score of the reduced dimensional data on the model\n",
    "        return self._model.score(x, y)\n",
    "    \n"
   ]
  },
  {
   "cell_type": "code",
   "execution_count": 3,
   "metadata": {},
   "outputs": [],
   "source": [
    "X, y = get_data(subsamp=True, binary=True)"
   ]
  },
  {
   "cell_type": "code",
   "execution_count": 4,
   "metadata": {},
   "outputs": [],
   "source": [
    "n_components=2\n",
    "#P = PCA(n_components=n_components)\n",
    "m = LogisticRegression()\n",
    "model = spca_model(model = m, threshold=0.2)"
   ]
  },
  {
   "cell_type": "code",
   "execution_count": 5,
   "metadata": {},
   "outputs": [
    {
     "name": "stderr",
     "output_type": "stream",
     "text": [
      "/home/jvendrow/.local/lib/python3.6/site-packages/sklearn/linear_model/_logistic.py:764: ConvergenceWarning: lbfgs failed to converge (status=1):\n",
      "STOP: TOTAL NO. of ITERATIONS REACHED LIMIT.\n",
      "\n",
      "Increase the number of iterations (max_iter) or scale the data as shown in:\n",
      "    https://scikit-learn.org/stable/modules/preprocessing.html\n",
      "Please also refer to the documentation for alternative solver options:\n",
      "    https://scikit-learn.org/stable/modules/linear_model.html#logistic-regression\n",
      "  extra_warning_msg=_LOGISTIC_SOLVER_CONVERGENCE_MSG)\n"
     ]
    },
    {
     "data": {
      "text/plain": [
       "<__main__.spca_model at 0x7fb721567c50>"
      ]
     },
     "execution_count": 5,
     "metadata": {},
     "output_type": "execute_result"
    }
   ],
   "source": [
    "model.fit_spca_model(X,y)"
   ]
  },
  {
   "cell_type": "code",
   "execution_count": 6,
   "metadata": {},
   "outputs": [
    {
     "data": {
      "text/plain": [
       "215"
      ]
     },
     "execution_count": 6,
     "metadata": {},
     "output_type": "execute_result"
    }
   ],
   "source": [
    "model.get_num_components()"
   ]
  },
  {
   "cell_type": "code",
   "execution_count": 7,
   "metadata": {},
   "outputs": [
    {
     "data": {
      "text/plain": [
       "(1638, 215)"
      ]
     },
     "execution_count": 7,
     "metadata": {},
     "output_type": "execute_result"
    }
   ],
   "source": [
    "X.shape"
   ]
  },
  {
   "cell_type": "code",
   "execution_count": 8,
   "metadata": {},
   "outputs": [
    {
     "name": "stderr",
     "output_type": "stream",
     "text": [
      "/home/jvendrow/.local/lib/python3.6/site-packages/sklearn/linear_model/_logistic.py:764: ConvergenceWarning: lbfgs failed to converge (status=1):\n",
      "STOP: TOTAL NO. of ITERATIONS REACHED LIMIT.\n",
      "\n",
      "Increase the number of iterations (max_iter) or scale the data as shown in:\n",
      "    https://scikit-learn.org/stable/modules/preprocessing.html\n",
      "Please also refer to the documentation for alternative solver options:\n",
      "    https://scikit-learn.org/stable/modules/linear_model.html#logistic-regression\n",
      "  extra_warning_msg=_LOGISTIC_SOLVER_CONVERGENCE_MSG)\n"
     ]
    },
    {
     "ename": "ValueError",
     "evalue": "X has 5 features per sample; expecting 120",
     "output_type": "error",
     "traceback": [
      "\u001b[0;31m---------------------------------------------------------------------------\u001b[0m",
      "\u001b[0;31mValueError\u001b[0m                                Traceback (most recent call last)",
      "\u001b[0;32m<ipython-input-8-6ea9e92011f3>\u001b[0m in \u001b[0;36m<module>\u001b[0;34m()\u001b[0m\n\u001b[0;32m----> 1\u001b[0;31m \u001b[0my_pred\u001b[0m \u001b[0;34m=\u001b[0m \u001b[0mmodel\u001b[0m\u001b[0;34m.\u001b[0m\u001b[0mspca_predict\u001b[0m\u001b[0;34m(\u001b[0m\u001b[0mX\u001b[0m\u001b[0;34m)\u001b[0m\u001b[0;34m\u001b[0m\u001b[0;34m\u001b[0m\u001b[0m\n\u001b[0m",
      "\u001b[0;32m<ipython-input-2-1bc14916713b>\u001b[0m in \u001b[0;36mspca_predict\u001b[0;34m(self, x)\u001b[0m\n\u001b[1;32m     50\u001b[0m \u001b[0;34m\u001b[0m\u001b[0m\n\u001b[1;32m     51\u001b[0m         \u001b[0;31m# predict using the spca model\u001b[0m\u001b[0;34m\u001b[0m\u001b[0;34m\u001b[0m\u001b[0;34m\u001b[0m\u001b[0m\n\u001b[0;32m---> 52\u001b[0;31m         \u001b[0;32mreturn\u001b[0m \u001b[0mself\u001b[0m\u001b[0;34m.\u001b[0m\u001b[0m_model\u001b[0m\u001b[0;34m.\u001b[0m\u001b[0mpredict\u001b[0m\u001b[0;34m(\u001b[0m\u001b[0mx_transform\u001b[0m\u001b[0;34m)\u001b[0m\u001b[0;34m\u001b[0m\u001b[0;34m\u001b[0m\u001b[0m\n\u001b[0m\u001b[1;32m     53\u001b[0m \u001b[0;34m\u001b[0m\u001b[0m\n\u001b[1;32m     54\u001b[0m \u001b[0;34m\u001b[0m\u001b[0m\n",
      "\u001b[0;32m/home/jvendrow/.local/lib/python3.6/site-packages/sklearn/linear_model/_base.py\u001b[0m in \u001b[0;36mpredict\u001b[0;34m(self, X)\u001b[0m\n\u001b[1;32m    305\u001b[0m             \u001b[0mPredicted\u001b[0m \u001b[0;32mclass\u001b[0m \u001b[0mlabel\u001b[0m \u001b[0mper\u001b[0m \u001b[0msample\u001b[0m\u001b[0;34m.\u001b[0m\u001b[0;34m\u001b[0m\u001b[0;34m\u001b[0m\u001b[0m\n\u001b[1;32m    306\u001b[0m         \"\"\"\n\u001b[0;32m--> 307\u001b[0;31m         \u001b[0mscores\u001b[0m \u001b[0;34m=\u001b[0m \u001b[0mself\u001b[0m\u001b[0;34m.\u001b[0m\u001b[0mdecision_function\u001b[0m\u001b[0;34m(\u001b[0m\u001b[0mX\u001b[0m\u001b[0;34m)\u001b[0m\u001b[0;34m\u001b[0m\u001b[0;34m\u001b[0m\u001b[0m\n\u001b[0m\u001b[1;32m    308\u001b[0m         \u001b[0;32mif\u001b[0m \u001b[0mlen\u001b[0m\u001b[0;34m(\u001b[0m\u001b[0mscores\u001b[0m\u001b[0;34m.\u001b[0m\u001b[0mshape\u001b[0m\u001b[0;34m)\u001b[0m \u001b[0;34m==\u001b[0m \u001b[0;36m1\u001b[0m\u001b[0;34m:\u001b[0m\u001b[0;34m\u001b[0m\u001b[0;34m\u001b[0m\u001b[0m\n\u001b[1;32m    309\u001b[0m             \u001b[0mindices\u001b[0m \u001b[0;34m=\u001b[0m \u001b[0;34m(\u001b[0m\u001b[0mscores\u001b[0m \u001b[0;34m>\u001b[0m \u001b[0;36m0\u001b[0m\u001b[0;34m)\u001b[0m\u001b[0;34m.\u001b[0m\u001b[0mastype\u001b[0m\u001b[0;34m(\u001b[0m\u001b[0mnp\u001b[0m\u001b[0;34m.\u001b[0m\u001b[0mint\u001b[0m\u001b[0;34m)\u001b[0m\u001b[0;34m\u001b[0m\u001b[0;34m\u001b[0m\u001b[0m\n",
      "\u001b[0;32m/home/jvendrow/.local/lib/python3.6/site-packages/sklearn/linear_model/_base.py\u001b[0m in \u001b[0;36mdecision_function\u001b[0;34m(self, X)\u001b[0m\n\u001b[1;32m    285\u001b[0m         \u001b[0;32mif\u001b[0m \u001b[0mX\u001b[0m\u001b[0;34m.\u001b[0m\u001b[0mshape\u001b[0m\u001b[0;34m[\u001b[0m\u001b[0;36m1\u001b[0m\u001b[0;34m]\u001b[0m \u001b[0;34m!=\u001b[0m \u001b[0mn_features\u001b[0m\u001b[0;34m:\u001b[0m\u001b[0;34m\u001b[0m\u001b[0;34m\u001b[0m\u001b[0m\n\u001b[1;32m    286\u001b[0m             raise ValueError(\"X has %d features per sample; expecting %d\"\n\u001b[0;32m--> 287\u001b[0;31m                              % (X.shape[1], n_features))\n\u001b[0m\u001b[1;32m    288\u001b[0m \u001b[0;34m\u001b[0m\u001b[0m\n\u001b[1;32m    289\u001b[0m         scores = safe_sparse_dot(X, self.coef_.T,\n",
      "\u001b[0;31mValueError\u001b[0m: X has 5 features per sample; expecting 120"
     ]
    }
   ],
   "source": [
    "y_pred = model.spca_predict(X)"
   ]
  },
  {
   "cell_type": "code",
   "execution_count": null,
   "metadata": {},
   "outputs": [],
   "source": [
    "y[y==y_pred].shape[0]"
   ]
  },
  {
   "cell_type": "code",
   "execution_count": null,
   "metadata": {},
   "outputs": [],
   "source": [
    "y.shape[0]"
   ]
  },
  {
   "cell_type": "code",
   "execution_count": null,
   "metadata": {},
   "outputs": [],
   "source": [
    "1323/1638"
   ]
  },
  {
   "cell_type": "code",
   "execution_count": null,
   "metadata": {},
   "outputs": [],
   "source": [
    "PCA = model._pca"
   ]
  },
  {
   "cell_type": "code",
   "execution_count": null,
   "metadata": {},
   "outputs": [],
   "source": [
    "PCA.components_.shape"
   ]
  },
  {
   "cell_type": "code",
   "execution_count": 21,
   "metadata": {},
   "outputs": [],
   "source": [
    "trans_x = np.delete(X, model._dropouts, axis=1) \n",
    "#trans_x=X"
   ]
  },
  {
   "cell_type": "code",
   "execution_count": 27,
   "metadata": {},
   "outputs": [],
   "source": [
    "pca = PCA(n_components=3)\n",
    "x_transform = pca.fit_transform(trans_x)"
   ]
  },
  {
   "cell_type": "code",
   "execution_count": 28,
   "metadata": {},
   "outputs": [
    {
     "data": {
      "text/plain": [
       "(3, 120)"
      ]
     },
     "execution_count": 28,
     "metadata": {},
     "output_type": "execute_result"
    }
   ],
   "source": [
    "pca.components_.shape"
   ]
  },
  {
   "cell_type": "code",
   "execution_count": 29,
   "metadata": {},
   "outputs": [
    {
     "data": {
      "text/plain": [
       "360"
      ]
     },
     "execution_count": 29,
     "metadata": {},
     "output_type": "execute_result"
    }
   ],
   "source": [
    "np.count_nonzero(pca.components_)"
   ]
  },
  {
   "cell_type": "code",
   "execution_count": 30,
   "metadata": {},
   "outputs": [
    {
     "data": {
      "image/png": "[encoded data removed]",
      "text/plain": [
       "<Figure size 432x288 with 2 Axes>"
      ]
     },
     "metadata": {},
     "output_type": "display_data"
    }
   ],
   "source": [
    "plt.imshow(pca.components_, aspect='auto')\n",
    "plt.colorbar()\n",
    "plt.show()"
   ]
  },
  {
   "cell_type": "code",
   "execution_count": 31,
   "metadata": {},
   "outputs": [
    {
     "data": {
      "image/png": "[encoded data removed]",
      "text/plain": [
       "<Figure size 432x288 with 2 Axes>"
      ]
     },
     "metadata": {},
     "output_type": "display_data"
    }
   ],
   "source": [
    "p = pca.components_.copy()\n",
    "p[p>=0.2] = 1\n",
    "p[p<0.2] = 0\n",
    "plt.imshow(p, aspect='auto')\n",
    "plt.colorbar()\n",
    "plt.show()"
   ]
  },
  {
   "cell_type": "code",
   "execution_count": 32,
   "metadata": {},
   "outputs": [],
   "source": [
    "map = {}\n",
    "drop = model._dropouts\n",
    "non_dropout = [i for i in range(215) if i not in drop]"
   ]
  },
  {
   "cell_type": "code",
   "execution_count": 33,
   "metadata": {},
   "outputs": [],
   "source": [
    "#non_dropout = [i for i in range(215)]"
   ]
  },
  {
   "cell_type": "code",
   "execution_count": 34,
   "metadata": {},
   "outputs": [
    {
     "name": "stdout",
     "output_type": "stream",
     "text": [
      "[80, 79, 81, 82, 108, 94, 109, 105, 89, 91]\n",
      "[0.37404629 0.34626644 0.24291606 0.21449667 0.13618694 0.13315553\n",
      " 0.12382288 0.12368797 0.12351132 0.12317391]\n",
      "[23, 70, 76, 77, 78, 74, 75, 21, 69, 184]\n",
      "[0.07761393 0.03839005 0.03678952 0.02931408 0.02871753 0.02507376\n",
      " 0.02410699 0.02270967 0.02214224 0.01995027]\n",
      "[50, 49, 52, 51, 62, 43, 15, 65, 146, 176]\n",
      "[0.44675141 0.37083413 0.29339443 0.1529368  0.07339452 0.05992362\n",
      " 0.05527061 0.05042272 0.0296623  0.02917132]\n"
     ]
    }
   ],
   "source": [
    "A = pca.components_.T\n",
    "for i in range(A.shape[1]):\n",
    "    print([non_dropout[x] for x in np.argsort(A[:,i])[::-1][:10]])\n",
    "    print(A[:,i][np.argsort(A[:,i])[::-1][:10]])"
   ]
  },
  {
   "cell_type": "code",
   "execution_count": 35,
   "metadata": {},
   "outputs": [
    {
     "name": "stdout",
     "output_type": "stream",
     "text": [
      "[21, 70, 69, 75, 78, 71, 76, 73, 72, 74]\n",
      "[-0.16729552 -0.15060214 -0.1395381  -0.13903281 -0.13847074 -0.1379889\n",
      " -0.13130482 -0.12991454 -0.12551261 -0.12543066]\n",
      "[51, 52, 47, 49, 50, 46, 54, 43, 45, 44]\n",
      "[-0.32449336 -0.32221451 -0.31288493 -0.31084645 -0.30549086 -0.29769853\n",
      " -0.28256074 -0.27361598 -0.27339269 -0.26779508]\n",
      "[45, 46, 47, 48, 54, 44, 79, 166, 94, 184]\n",
      "[-0.49934641 -0.43482445 -0.27422837 -0.09279967 -0.06109459 -0.05405863\n",
      " -0.0271638  -0.0230028  -0.02021857 -0.0179068 ]\n"
     ]
    }
   ],
   "source": [
    "A = pca.components_.T\n",
    "for i in range(A.shape[1]):\n",
    "    print([non_dropout[x] for x in np.argsort(A[:,i])[:10]])\n",
    "    print(A[:,i][np.argsort(A[:,i])[:10]])"
   ]
  },
  {
   "cell_type": "code",
   "execution_count": 48,
   "metadata": {},
   "outputs": [
    {
     "name": "stdout",
     "output_type": "stream",
     "text": [
      "[80, 79, 81, 82, 21, 70, 69, 75, 78, 71]\n",
      "[1, 1, 1, 1, -1, -1, -1, -1, -1, -1]\n",
      "[51, 52, 47, 49, 50, 46, 54, 43, 45, 44]\n",
      "[-1, -1, -1, -1, -1, -1, -1, -1, -1, -1]\n",
      "[45, 50, 46, 49, 52, 47, 51, 48, 62, 54]\n",
      "[-1, 1, -1, 1, 1, -1, 1, -1, 1, -1]\n"
     ]
    }
   ],
   "source": [
    "for i in range(A.shape[1]):\n",
    "    pos_features = [non_dropout[x] for x in np.argsort(A[:,i])[::-1][:30]]\n",
    "    pos_ranks = A[:,i][np.argsort(A[:,i])[::-1][:30]]\n",
    "    neg_features = [non_dropout[x] for x in np.argsort(A[:,i])[:30]]\n",
    "    neg_ranks = A[:,i][np.argsort(A[:,i])[:30]]\n",
    "    \n",
    "    all_features = np.concatenate((pos_features,neg_features))\n",
    "    all_ranks = np.concatenate((pos_ranks,neg_ranks))\n",
    "    signs = all_ranks.copy()\n",
    "    signs[signs>0] = 1\n",
    "    signs[signs<0] = -1\n",
    "    all_ranks_abs = np.abs(all_ranks)\n",
    "    srt = np.argsort(all_ranks_abs)\n",
    "    final_features = all_features[srt][::-1]\n",
    "    print(final_features[:10].tolist())\n",
    "    print(signs[srt][::-1][:10].astype(int).tolist())\n",
    "    \n",
    "    "
   ]
  },
  {
   "cell_type": "code",
   "execution_count": 20,
   "metadata": {},
   "outputs": [
    {
     "name": "stdout",
     "output_type": "stream",
     "text": [
      "[35, 41, 177, 193, 110, 196, 62, 61, 174, 214]\n",
      "[0.00027297 0.00029877 0.00031141 0.00034132 0.00034192 0.00036617\n",
      " 0.0003729  0.0003853  0.00045341 0.00047267]\n",
      "[204, 175, 181, 61, 35, 36, 56, 65, 113, 111]\n",
      "[0.00012568 0.000303   0.00041299 0.00071423 0.00074479 0.00108462\n",
      " 0.00112452 0.00112578 0.00116037 0.00116778]\n",
      "[19, 38, 31, 12, 127, 200, 144, 166, 9, 147]\n",
      "[-0.02148302 -0.02143123 -0.01990706 -0.01948075 -0.01908435 -0.01900592\n",
      " -0.01847594 -0.01838425 -0.01825355 -0.01815637]\n",
      "[199, 23, 17, 14, 38, 160, 166, 44, 163, 16]\n",
      "[-0.01483413 -0.01279222 -0.01216466 -0.01188916 -0.01187411 -0.01168229\n",
      " -0.01151655 -0.0112382  -0.01118545 -0.01097175]\n",
      "[65, 170, 192, 173, 123, 194, 181, 39, 196, 174]\n",
      "[-0.00131245 -0.00131128 -0.00098931 -0.00090355 -0.00082385 -0.00079657\n",
      " -0.00054055 -0.00049738 -0.00049169 -0.00044625]\n"
     ]
    }
   ],
   "source": [
    "A = pca.components_.T\n",
    "for i in range(A.shape[1]):\n",
    "    print([non_dropout[x] for x in np.argsort(A[:,i])[50:60]])\n",
    "    print(A[:,i][np.argsort(A[:,i])[50:60]])"
   ]
  },
  {
   "cell_type": "code",
   "execution_count": 61,
   "metadata": {},
   "outputs": [],
   "source": [
    "X_2 = x_transform[:,0:2]\n",
    "X_2_non = X_2[y==0]\n",
    "X_2_high = X_2[y==1]"
   ]
  },
  {
   "cell_type": "code",
   "execution_count": 63,
   "metadata": {},
   "outputs": [
    {
     "data": {
      "image/png": "[encoded data removed]",
      "text/plain": [
       "<Figure size 432x288 with 1 Axes>"
      ]
     },
     "metadata": {},
     "output_type": "display_data"
    }
   ],
   "source": [
    "plt.scatter(X_2_non[:,0], X_2_non[:,1])\n",
    "plt.scatter(X_2_high[:,0], X_2_high[:,1])\n",
    "\n",
    "\n",
    "plt.show()"
   ]
  },
  {
   "cell_type": "code",
   "execution_count": null,
   "metadata": {},
   "outputs": [],
   "source": []
  }
 ],
 "metadata": {
  "kernelspec": {
   "display_name": "Python 3",
   "language": "python",
   "name": "python3"
  },
  "language_info": {
   "codemirror_mode": {
    "name": "ipython",
    "version": 3
   },
   "file_extension": ".py",
   "mimetype": "text/x-python",
   "name": "python",
   "nbconvert_exporter": "python",
   "pygments_lexer": "ipython3",
   "version": "3.6.9"
  }
 },
 "nbformat": 4,
 "nbformat_minor": 2
}
